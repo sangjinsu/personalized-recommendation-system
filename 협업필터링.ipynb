{
  "cells": [
    {
      "cell_type": "markdown",
      "metadata": {
        "colab_type": "text",
        "id": "view-in-github"
      },
      "source": [
        "<a href=\"https://colab.research.google.com/github/sangjinsu/personalized-recommendation-system/blob/main/%ED%98%91%EC%97%85%ED%95%84%ED%84%B0%EB%A7%81.ipynb\" target=\"_parent\"><img src=\"https://colab.research.google.com/assets/colab-badge.svg\" alt=\"Open In Colab\"/></a>"
      ]
    },
    {
      "cell_type": "markdown",
      "metadata": {
        "id": "htAnUFxQg3Vh"
      },
      "source": [
        "어떤 아이템에 대해 비슷한 취향을 가진 사람들은 다른 아이템에 대해서도 비슷한 취향을 가질 것이다.\n",
        "\n",
        "\n",
        "### 유사도 지표 \n",
        " \n",
        "- 상관계수  -1 ~ 1 사이 값 \n",
        "- 코사인 유사도 \n",
        "  - 협업 필터링에서 가장 널리 쓰이는 유사도 \n",
        "  - 각 아이템 => 하나의 차원, 사용자의 평가값 => 좌표값\n",
        "  - 두 사용자의 평가값 유사 => theta는 작아지고 코사인은 커진다 \n",
        "  - -1 ~ 1 사이의 값\n",
        "  - 데이터 이진값 => 타니모토 계수 사용 권장 \n",
        "- 자카드 계수 \n",
        "  - 타니모토 계수의 변형 => 자카드 계수\n",
        "  - 이진수 데이터 => 좋은 결과 \n",
        "\n",
        "### 기본 CF 알고리즘\n",
        "1. 모든 사용자 간 평가의 유사도 계산\n",
        "2. 추천 대상과 다른 사용자간 유사도 추출\n",
        "3. 추천 대상이 평가하지 않은 아이템에 대해 예상 평가값 계산\n",
        "4. 아이템 중 예상 평가값이 가장 높은 N개 추천 \n"
      ]
    },
    {
      "cell_type": "code",
      "execution_count": 5,
      "metadata": {
        "colab": {
          "base_uri": "https://localhost:8080/"
        },
        "id": "LL8-j0sp-r0z",
        "outputId": "66a39a64-35dd-4b55-abba-6981c44d76b8"
      },
      "outputs": [
        {
          "data": {
            "text/plain": [
              "1.0191514588846329"
            ]
          },
          "execution_count": 5,
          "metadata": {},
          "output_type": "execute_result"
        }
      ],
      "source": [
        "import os\n",
        "import pandas as pd\n",
        "import numpy as np\n",
        "from sklearn.model_selection import train_test_split\n",
        "\n",
        "base_src = ''\n",
        "u_user_src = os.path.join(base_src, 'u.user')\n",
        "\n",
        "u_cols = ['user_id', 'age', 'sex', 'occupation', 'zip_code']\n",
        "users = pd.read_csv(u_user_src,\n",
        "                    sep = '|',\n",
        "                    names=u_cols,\n",
        "                    encoding='latin-1')\n",
        "users = users.set_index('user_id')\n",
        "\n",
        "\n",
        "u_item_src = os.path.join(base_src, 'u.item')\n",
        "i_cols = ['movie_id','title','release date','video release date', 'IMDB URL','unknown','Action','Adventure','Animation',\n",
        "'Children\\'s','Comedy','Crime','Documentary','Drama','Fantasy', 'Film-Noir','Horror','Musical','Mystery','Romance','Sci-Fi','Thriller','War','Western']\n",
        "movies = pd.read_csv(u_item_src, \n",
        "                     sep = '|',\n",
        "                     names = i_cols,\n",
        "                     encoding='latin-1')\n",
        "movies = movies.set_index('movie_id')\n",
        "\n",
        "\n",
        "u_data_src = os.path.join(base_src, 'u.data')\n",
        "r_cols = ['user_id', 'movie_id', 'rating', 'timestamp']\n",
        "ratings = pd.read_csv(u_data_src, sep='\\t',\n",
        "                      names=r_cols, encoding='latin-1')\n",
        "\n",
        "# RMSE 계산함수\n",
        "def RMSE(y_true, y_pred):\n",
        "  return np.sqrt(np.mean((np.array(y_true) - np.array(y_pred)) ** 2))\n",
        "\n",
        "# 모델별 RMSE 계산 함수\n",
        "def score(model):\n",
        "  id_pairs = zip(x_test['user_id'], x_test['movie_id'])\n",
        "  y_pred = np.array([model(user, movie) for (user, movie) in id_pairs])\n",
        "  y_true = np.array(x_test['rating'])\n",
        "  return RMSE(y_true, y_pred)\n",
        "\n",
        "x = ratings.copy()\n",
        "y = ratings['user_id']\n",
        "\n",
        "x_train, x_test, y_train, y_test = train_test_split(x, y, test_size=0.25, stratify=y)\n",
        "\n",
        "ratings_matrix = x_train.pivot(index='user_id', columns='movie_id', values='rating')\n",
        "\n",
        "### 코사인 유사도 \n",
        "\n",
        "from sklearn.metrics.pairwise import cosine_similarity\n",
        "matrix_dummy = ratings_matrix.copy().fillna(0)\n",
        "user_similarity = cosine_similarity(matrix_dummy, matrix_dummy)\n",
        "user_similarity = pd.DataFrame(user_similarity,\n",
        "                               index=ratings_matrix.index,\n",
        "                               columns=ratings_matrix.index)\n",
        "\n",
        "\n",
        "### 주어진 영화의 movie_id 가중 평균 rating을 계산하는 함수 \n",
        "def CF_simple(user_id, movie_id):\n",
        "  if movie_id in ratings_matrix.columns:\n",
        "    sim_scores = user_similarity[user_id].copy()\n",
        "    movie_ratings = ratings_matrix[movie_id].copy()\n",
        "    none_rating_idx = movie_ratings[movie_ratings.isnull()].index\n",
        "    movie_ratings = movie_ratings.dropna()\n",
        "    sim_scores = sim_scores.drop(none_rating_idx)\n",
        "    mean_rating = np.dot(sim_scores, movie_ratings) / sim_scores.sum()\n",
        "  else:\n",
        "    mean_rating = 3.0\n",
        "  return mean_rating \n",
        "\n",
        "score(CF_simple)\n",
        "\n"
      ]
    },
    {
      "cell_type": "markdown",
      "metadata": {
        "id": "KXUVTXtws8YF"
      },
      "source": [
        "### 이웃을 고려한 CF\n",
        "\n",
        "단순 CF 알고리즘 개선 방법\n",
        "1. K Nearest Neighbors 방법\n",
        "2. Thresholding 방법\n",
        "\n"
      ]
    },
    {
      "cell_type": "code",
      "execution_count": 6,
      "metadata": {
        "colab": {
          "base_uri": "https://localhost:8080/"
        },
        "id": "lal5A8PntgOk",
        "outputId": "7126b547-0658-44bc-f426-1f3366c0e559"
      },
      "outputs": [
        {
          "data": {
            "text/plain": [
              "1.0099391859451443"
            ]
          },
          "execution_count": 6,
          "metadata": {},
          "output_type": "execute_result"
        }
      ],
      "source": [
        "import os\n",
        "import pandas as pd\n",
        "import numpy as np\n",
        "from sklearn.model_selection import train_test_split\n",
        "\n",
        "base_src = ''\n",
        "u_user_src = os.path.join(base_src, 'u.user')\n",
        "\n",
        "u_cols = ['user_id', 'age', 'sex', 'occupation', 'zip_code']\n",
        "users = pd.read_csv(u_user_src,\n",
        "                    sep = '|',\n",
        "                    names=u_cols,\n",
        "                    encoding='latin-1')\n",
        "users = users.set_index('user_id')\n",
        "\n",
        "\n",
        "u_item_src = os.path.join(base_src, 'u.item')\n",
        "i_cols = ['movie_id','title','release date','video release date', 'IMDB URL','unknown','Action','Adventure','Animation',\n",
        "'Children\\'s','Comedy','Crime','Documentary','Drama','Fantasy', 'Film-Noir','Horror','Musical','Mystery','Romance','Sci-Fi','Thriller','War','Western']\n",
        "movies = pd.read_csv(u_item_src, \n",
        "                     sep = '|',\n",
        "                     names = i_cols,\n",
        "                     encoding='latin-1')\n",
        "movies = movies.set_index('movie_id')\n",
        "\n",
        "\n",
        "u_data_src = os.path.join(base_src, 'u.data')\n",
        "r_cols = ['user_id', 'movie_id', 'rating', 'timestamp']\n",
        "ratings = pd.read_csv(u_data_src, sep='\\t',\n",
        "                      names=r_cols, encoding='latin-1')\n",
        "\n",
        "# RMSE 계산함수\n",
        "def RMSE(y_true, y_pred):\n",
        "  return np.sqrt(np.mean((np.array(y_true) - np.array(y_pred)) ** 2))\n",
        "\n",
        "# 유사집단 크기를 미리 정하기 위해서 기존 score 함수에 neighnbor_size 인자값 추가 \n",
        "def score(model, neighbor_size=0):\n",
        "  # 테스트 데이터의 user_id 와 movie_id 간 pair를 맞춰 튜플형 원소 리스트 데이터 생성\n",
        "  id_pairs = zip(x_test['user_id'], x_test['movie_id'])\n",
        "  # 모든 사용자-영화 짝에 대해 주어진 예측 모델에 의해 예측값 계산 및 리스트형 데이터 생성 \n",
        "  y_pred = np.array([model(user, movie, neighbor_size) for (user, movie) in id_pairs])\n",
        "  # 실제 평점값 \n",
        "  y_true = np.array(x_test['rating'])\n",
        "  return RMSE(y_true, y_pred)\n",
        "\n",
        "x = ratings.copy()\n",
        "y = ratings['user_id']\n",
        "\n",
        "x_train, x_test, y_train, y_test = train_test_split(x, y, test_size=0.25, stratify=y)\n",
        "\n",
        "ratings_matrix = x_train.pivot(index='user_id', columns='movie_id', values='rating')\n",
        "\n",
        "### 코사인 유사도를 계산하는 사이킷런 라이브러리\n",
        "from sklearn.metrics.pairwise import cosine_similarity\n",
        "# 코사인 유사도를 구하기 위해 rating 값을 복사하고 계산 시 NaN 값 에러 대비를 위해 결측치 0으로 대체\n",
        "matrix_dummy = ratings_matrix.copy().fillna(0)\n",
        "# 모든 사용자간 코사인 유사도 구함\n",
        "user_similarity = cosine_similarity(matrix_dummy, matrix_dummy)\n",
        "# 필요한 값 조회를 위해 인덱스 및 컬럼명 지정 \n",
        "user_similarity = pd.DataFrame(user_similarity,\n",
        "                               index=ratings_matrix.index,\n",
        "                               columns=ratings_matrix.index)\n",
        "\n",
        "\n",
        "### KNN 정해서 예측치를 계산하는 함수 \n",
        "def CF_knn(user_id, movie_id, neighbor_size=0):\n",
        "  if movie_id in ratings_matrix.columns:\n",
        "    sim_scores = user_similarity[user_id].copy()\n",
        "    movie_ratings = ratings_matrix[movie_id].copy()\n",
        "    none_rating_idx = movie_ratings[movie_ratings.isnull()].index\n",
        "    movie_ratings = movie_ratings.dropna()\n",
        "    sim_scores = sim_scores.drop(none_rating_idx)\n",
        "\n",
        "    if neighbor_size == 0:\n",
        "      mean_rating = np.dot(sim_scores, movie_ratings) / sim_scores.sum()\n",
        "    else:\n",
        "      if len(sim_scores) > 1:\n",
        "        neighbor_size = min(neighbor_size, len(sim_scores))\n",
        "        sim_socres = np.array(sim_scores)\n",
        "        movie_ratings = np.array(movie_ratings)\n",
        "        user_idx = np.argsort(sim_scores)\n",
        "        sim_scores = sim_socres[user_idx][-neighbor_size:]\n",
        "        movie_ratings = movie_ratings[user_idx][-neighbor_size:]\n",
        "        mean_rating = np.dot(sim_scores, movie_ratings) / sim_scores.sum()\n",
        "      else:\n",
        "        mean_rating = 3.0\n",
        "  else:\n",
        "    mean_rating = 3.0\n",
        "  return mean_rating \n",
        "\n",
        "score(CF_knn, neighbor_size=30)\n",
        "\n",
        "\n"
      ]
    },
    {
      "cell_type": "code",
      "execution_count": 7,
      "metadata": {
        "colab": {
          "base_uri": "https://localhost:8080/"
        },
        "id": "hFjj93vSuLKQ",
        "outputId": "2deb7819-af58-40df-e146-dbc877f2fe1b"
      },
      "outputs": [
        {
          "data": {
            "text/plain": [
              "movie_id\n",
              "1189                Prefontaine (1997)\n",
              "1463                  Boys, Les (1997)\n",
              "1656                Little City (1998)\n",
              "1367                      Faust (1994)\n",
              "12          Usual Suspects, The (1995)\n",
              "1612           Leading Man, The (1996)\n",
              "174     Raiders of the Lost Ark (1981)\n",
              "408              Close Shave, A (1995)\n",
              "1594                    Everest (1998)\n",
              "1449            Pather Panchali (1955)\n",
              "Name: title, dtype: object"
            ]
          },
          "execution_count": 7,
          "metadata": {},
          "output_type": "execute_result"
        }
      ],
      "source": [
        "### 실제 주어진 사용자에 대해 추천을 받는 기능 구현\n",
        "rating_matrix = x_train.pivot(index='user_id', columns='movie_id', values='rating')\n",
        "# 코사인 유사도를 구하기 위해 rating 값을 복사하고 계산 시 NaN 값 에러 대비를 위해 결측치 0으로 대체\n",
        "matrix_dummy = ratings_matrix.copy().fillna(0)\n",
        "# 모든 사용자간 코사인 유사도 구함\n",
        "user_similarity = cosine_similarity(matrix_dummy, matrix_dummy)\n",
        "# 필요한 값 조회를 위해 인덱스 및 컬럼명 지정 \n",
        "user_similarity = pd.DataFrame(user_similarity,\n",
        "                               index=ratings_matrix.index,\n",
        "                               columns=ratings_matrix.index)\n",
        "\n",
        "def recom_movie(user_id, n_items, neighbor_size = 30):\n",
        "  user_movie = rating_matrix.loc[user_id].copy()\n",
        "  for movie in rating_matrix.columns:\n",
        "    if pd.notnull(user_movie.loc[movie]):\n",
        "      user_movie.loc[movie] = 0\n",
        "\n",
        "    else:\n",
        "      user_movie.loc[movie] = CF_knn(user_id, movie, neighbor_size)\n",
        "  \n",
        "  movie_sort = user_movie.sort_values(ascending=False)[:n_items]\n",
        "  recom_movies = movies.loc[movie_sort.index]\n",
        "  recommendations = recom_movies['title']\n",
        "  return recommendations\n",
        "\n",
        "recom_movie(user_id=1, n_items=10, neighbor_size=30)"
      ]
    },
    {
      "cell_type": "markdown",
      "metadata": {
        "id": "d3WmrZtG1Efr"
      },
      "source": [
        "### 최적의 이웃 크기 결정\n",
        "\n"
      ]
    },
    {
      "cell_type": "code",
      "execution_count": 8,
      "metadata": {
        "colab": {
          "base_uri": "https://localhost:8080/"
        },
        "id": "AB4mbAN7y4nq",
        "outputId": "5c542bf8-92a3-448f-cc00-baa7872bd3d8"
      },
      "outputs": [
        {
          "name": "stdout",
          "output_type": "stream",
          "text": [
            "1.0296971780308377\n",
            "1.0120758679384685\n",
            "1.0099391859451443\n",
            "1.0101633158556151\n",
            "1.010549526274457\n",
            "1.0113106128194362\n"
          ]
        }
      ],
      "source": [
        "for neighbor_size in range(10, 70, 10):\n",
        "  print(score(CF_knn, neighbor_size))"
      ]
    },
    {
      "cell_type": "markdown",
      "metadata": {
        "id": "XSKGSG_L3ZvC"
      },
      "source": [
        "### 사용자 평가 경향을 고려한 CF \n",
        "\n",
        "1. 각 사용자 평점평균 계산\n",
        "2. 평점 => 각 사용자의 평균에서의 차이로 변환\n",
        "  - (평점 - 해당 사용자의 평균 평점)\n",
        "3. 평점 편차의 예측값 계산\n",
        "  - 평가값 = 평점편차  * 다른 사용자 유사도 \n",
        "4. 실제 예측값 = 평점편차 예측값 + 평점 평균 \n"
      ]
    },
    {
      "cell_type": "code",
      "execution_count": 10,
      "metadata": {
        "colab": {
          "base_uri": "https://localhost:8080/"
        },
        "id": "mikIDBDy5NzZ",
        "outputId": "cda01d02-bd99-47bb-ab28-d49a1877c47d"
      },
      "outputs": [
        {
          "data": {
            "text/plain": [
              "0.9344024862487913"
            ]
          },
          "execution_count": 10,
          "metadata": {},
          "output_type": "execute_result"
        }
      ],
      "source": [
        "import os\n",
        "import pandas as pd\n",
        "import numpy as np\n",
        "from sklearn.model_selection import train_test_split\n",
        "### 코사인 유사도를 계산하는 사이킷런 라이브러리\n",
        "from sklearn.metrics.pairwise import cosine_similarity\n",
        "\n",
        "base_src = ''\n",
        "u_user_src = os.path.join(base_src, 'u.user')\n",
        "\n",
        "u_cols = ['user_id', 'age', 'sex', 'occupation', 'zip_code']\n",
        "users = pd.read_csv(u_user_src,\n",
        "                    sep = '|',\n",
        "                    names=u_cols,\n",
        "                    encoding='latin-1')\n",
        "users = users.set_index('user_id')\n",
        "\n",
        "\n",
        "u_item_src = os.path.join(base_src, 'u.item')\n",
        "i_cols = ['movie_id','title','release date','video release date', 'IMDB URL','unknown','Action','Adventure','Animation',\n",
        "'Children\\'s','Comedy','Crime','Documentary','Drama','Fantasy', 'Film-Noir','Horror','Musical','Mystery','Romance','Sci-Fi','Thriller','War','Western']\n",
        "movies = pd.read_csv(u_item_src, \n",
        "                     sep = '|',\n",
        "                     names = i_cols,\n",
        "                     encoding='latin-1')\n",
        "movies = movies.set_index('movie_id')\n",
        "\n",
        "\n",
        "u_data_src = os.path.join(base_src, 'u.data')\n",
        "r_cols = ['user_id', 'movie_id', 'rating', 'timestamp']\n",
        "ratings = pd.read_csv(u_data_src, sep='\\t',\n",
        "                      names=r_cols, encoding='latin-1')\n",
        "\n",
        "# RMSE 계산함수\n",
        "def RMSE(y_true, y_pred):\n",
        "  return np.sqrt(np.mean((np.array(y_true) - np.array(y_pred)) ** 2))\n",
        "\n",
        "# 유사집단 크기를 미리 정하기 위해서 기존 score 함수에 neighnbor_size 인자값 추가 \n",
        "def score(model, neighbor_size=0):\n",
        "  # 테스트 데이터의 user_id 와 movie_id 간 pair를 맞춰 튜플형 원소 리스트 데이터 생성\n",
        "  id_pairs = zip(x_test['user_id'], x_test['movie_id'])\n",
        "  # 모든 사용자-영화 짝에 대해 주어진 예측 모델에 의해 예측값 계산 및 리스트형 데이터 생성 \n",
        "  y_pred = np.array([model(user, movie, neighbor_size) for (user, movie) in id_pairs])\n",
        "  # 실제 평점값 \n",
        "  y_true = np.array(x_test['rating'])\n",
        "  return RMSE(y_true, y_pred)\n",
        "\n",
        "x = ratings.copy()\n",
        "y = ratings['user_id']\n",
        "\n",
        "x_train, x_test, y_train, y_test = train_test_split(x, y, test_size=0.25, stratify=y)\n",
        "\n",
        "ratings_matrix = x_train.pivot(index='user_id', columns='movie_id', values='rating')\n",
        "\n",
        "\n",
        "# 코사인 유사도를 구하기 위해 rating 값을 복사하고 계산 시 NaN 값 에러 대비를 위해 결측치 0으로 대체\n",
        "matrix_dummy = ratings_matrix.copy().fillna(0)\n",
        "# 모든 사용자간 코사인 유사도 구함\n",
        "user_similarity = cosine_similarity(matrix_dummy, matrix_dummy)\n",
        "# 필요한 값 조회를 위해 인덱스 및 컬럼명 지정 \n",
        "user_similarity = pd.DataFrame(user_similarity,\n",
        "                               index=ratings_matrix.index,\n",
        "                               columns=ratings_matrix.index)\n",
        "\n",
        "\n",
        "### 사용자 평가 경향을 고려한 함수 \n",
        "rating_mean = ratings_matrix.mean(axis=1)\n",
        "rating_bias = (ratings_matrix.T - rating_mean).T\n",
        "\n",
        "### 사용자 평가 경향을 고려한 함수 \n",
        "def CF_knn_bias(user_id, movie_id, neighbor_size=0):\n",
        "  if movie_id in rating_bias.columns:\n",
        "    sim_scores = user_similarity[user_id].copy()\n",
        "    movie_ratings = rating_bias[movie_id].copy()\n",
        "    none_rating_idx = movie_ratings[movie_ratings.isnull()].index\n",
        "    movie_ratings = movie_ratings.drop(none_rating_idx)\n",
        "    sim_scores = sim_scores.drop(none_rating_idx)\n",
        "\n",
        "    if neighbor_size == 0:\n",
        "      prediction = np.dot(sim_scores, movie_ratings) / sim_scores.sum()\n",
        "      prediction = prediction + rating_mean[user_id]\n",
        "    \n",
        "    else:\n",
        "      if len(sim_scores) > 1:\n",
        "        neighbor_size = min(neighbor_size, len(sim_scores))\n",
        "        sim_scores = np.array(sim_scores)\n",
        "        movie_ratings = np.array(movie_ratings)\n",
        "        user_idx = np.argsort(sim_scores)\n",
        "        sim_scores = sim_scores[user_idx][-neighbor_size:]\n",
        "        movie_ratings = movie_ratings[user_idx][-neighbor_size:]\n",
        "        prediction = np.dot(sim_scores, movie_ratings) / sim_scores.sum()\n",
        "        prediction = prediction + rating_mean[user_id]\n",
        "      else:\n",
        "        prediction = rating_mean[user_id]\n",
        "  else:\n",
        "    prediction = rating_mean[user_id] \n",
        "  return prediction \n",
        "\n",
        "score(CF_knn_bias, 30)"
      ]
    },
    {
      "cell_type": "markdown",
      "metadata": {
        "id": "D0UCi_gbU1w-"
      },
      "source": [
        "### 그 외의 CF 정확도 개선 방법\n",
        "\n"
      ]
    },
    {
      "cell_type": "code",
      "execution_count": null,
      "metadata": {
        "colab": {
          "base_uri": "https://localhost:8080/"
        },
        "id": "YgzMdvXYVoPo",
        "outputId": "bae9d4e3-8c33-406d-8441-ffb73864af59"
      },
      "outputs": [
        {
          "data": {
            "text/plain": [
              "0.9424209013514165"
            ]
          },
          "execution_count": 2,
          "metadata": {},
          "output_type": "execute_result"
        }
      ],
      "source": [
        "import os\n",
        "import pandas as pd\n",
        "import numpy as np\n",
        "from sklearn.model_selection import train_test_split\n",
        "### 코사인 유사도를 계산하는 사이킷런 라이브러리\n",
        "from sklearn.metrics.pairwise import cosine_similarity\n",
        "\n",
        "base_src = 'drive/MyDrive/recommend'\n",
        "u_user_src = os.path.join(base_src, 'u.user')\n",
        "\n",
        "u_cols = ['user_id', 'age', 'sex', 'occupation', 'zip_code']\n",
        "users = pd.read_csv(u_user_src,\n",
        "                    sep = '|',\n",
        "                    names=u_cols,\n",
        "                    encoding='latin-1')\n",
        "users = users.set_index('user_id')\n",
        "\n",
        "\n",
        "u_item_src = os.path.join(base_src, 'u.item')\n",
        "i_cols = ['movie_id','title','release date','video release date', 'IMDB URL','unknown','Action','Adventure','Animation',\n",
        "'Children\\'s','Comedy','Crime','Documentary','Drama','Fantasy', 'Film-Noir','Horror','Musical','Mystery','Romance','Sci-Fi','Thriller','War','Western']\n",
        "movies = pd.read_csv(u_item_src, \n",
        "                     sep = '|',\n",
        "                     names = i_cols,\n",
        "                     encoding='latin-1')\n",
        "movies = movies.set_index('movie_id')\n",
        "\n",
        "\n",
        "u_data_src = os.path.join(base_src, 'u.data')\n",
        "r_cols = ['user_id', 'movie_id', 'rating', 'timestamp']\n",
        "ratings = pd.read_csv(u_data_src, sep='\\t',\n",
        "                      names=r_cols, encoding='latin-1')\n",
        "\n",
        "# RMSE 계산함수\n",
        "def RMSE(y_true, y_pred):\n",
        "  return np.sqrt(np.mean((np.array(y_true) - np.array(y_pred)) ** 2))\n",
        "\n",
        "# 유사집단 크기를 미리 정하기 위해서 기존 score 함수에 neighnbor_size 인자값 추가 \n",
        "def score(model, neighbor_size=0):\n",
        "  # 테스트 데이터의 user_id 와 movie_id 간 pair를 맞춰 튜플형 원소 리스트 데이터 생성\n",
        "  id_pairs = zip(x_test['user_id'], x_test['movie_id'])\n",
        "  # 모든 사용자-영화 짝에 대해 주어진 예측 모델에 의해 예측값 계산 및 리스트형 데이터 생성 \n",
        "  y_pred = np.array([model(user, movie, neighbor_size) for (user, movie) in id_pairs])\n",
        "  # 실제 평점값 \n",
        "  y_true = np.array(x_test['rating'])\n",
        "  return RMSE(y_true, y_pred)\n",
        "\n",
        "x = ratings.copy()\n",
        "y = ratings['user_id']\n",
        "\n",
        "x_train, x_test, y_train, y_test = train_test_split(x, y, test_size=0.25, stratify=y)\n",
        "\n",
        "ratings_matrix = x_train.pivot(index='user_id', columns='movie_id', values='rating')\n",
        "\n",
        "\n",
        "# 코사인 유사도를 구하기 위해 rating 값을 복사하고 계산 시 NaN 값 에러 대비를 위해 결측치 0으로 대체\n",
        "matrix_dummy = ratings_matrix.copy().fillna(0)\n",
        "# 모든 사용자간 코사인 유사도 구함\n",
        "user_similarity = cosine_similarity(matrix_dummy, matrix_dummy)\n",
        "# 필요한 값 조회를 위해 인덱스 및 컬럼명 지정 \n",
        "user_similarity = pd.DataFrame(user_similarity,\n",
        "                               index=ratings_matrix.index,\n",
        "                               columns=ratings_matrix.index)\n",
        "\n",
        "\n",
        "### 사용자 평가 경향을 고려한 함수 \n",
        "rating_mean = ratings_matrix.mean(axis=1)\n",
        "rating_bias = (ratings_matrix.T - rating_mean).T\n",
        "\n",
        "####################################################################\n",
        "rating_binary_1 = np.array(ratings_matrix>0).astype(float)\n",
        "rating_binary_2 = rating_binary_1.T\n",
        "\n",
        "counts = np.dot(rating_binary_1, rating_binary_2)\n",
        "counts = pd.DataFrame(counts, \n",
        "                      index=ratings_matrix.index,\n",
        "                      columns=ratings_matrix.index).fillna(0)\n",
        "\n",
        "def CF_knn_bias_sig(user_id, movie_id, neighbor_size=0):\n",
        "    if movie_id in rating_bias.columns:\n",
        "      sim_scores = user_similarity[user_id].copy()\n",
        "      movie_ratings = rating_bias[movie_id].copy()\n",
        "\n",
        "      no_rating = movie_ratings.isnull()\n",
        "      common_counts = counts[user_id]\n",
        "      low_significance = common_counts < SIG_LEVEL\n",
        "\n",
        "      none_rating_idx = movie_ratings[no_rating | low_significance].index\n",
        "      movie_ratings = movie_ratings.drop(none_rating_idx)\n",
        "      sim_scores = sim_scores.drop(none_rating_idx)\n",
        "\n",
        "      if neighbor_size == 0:\n",
        "        prediction = np.dot(sim_scores, movie_ratings) / sim_scores.sum()\n",
        "        prediction = prediction + rating_mean[user_id]\n",
        "    \n",
        "      else:\n",
        "        if len(sim_scores) > MIN_RATINGS:\n",
        "          neighbor_size = min(neighbor_size, len(sim_scores))\n",
        "          sim_scores = np.array(sim_scores)\n",
        "          movie_ratings = np.array(movie_ratings)\n",
        "          user_idx = np.argsort(sim_scores)\n",
        "          sim_scores = sim_scores[user_idx][-neighbor_size:]\n",
        "          movie_ratings = movie_ratings[user_idx][-neighbor_size:]\n",
        "          prediction = np.dot(sim_scores, movie_ratings) / sim_scores.sum()\n",
        "          prediction = prediction + rating_mean[user_id]\n",
        "        else:\n",
        "          prediction = rating_mean[user_id]\n",
        "    else:\n",
        "      prediction = rating_mean[user_id] \n",
        "\n",
        "    if prediction <= 1:\n",
        "      prediction = 1\n",
        "    elif prediction >= 5:\n",
        "      prediction = 5\n",
        "\n",
        "    return prediction \n",
        "\n",
        "SIG_LEVEL = 3\n",
        "MIN_RATINGS = 10\n",
        "score(CF_knn_bias_sig, 30)"
      ]
    },
    {
      "cell_type": "markdown",
      "metadata": {
        "id": "_nbV9x6fOMu3"
      },
      "source": [
        "### 사용자 기반 CF와 아이템 기반 CF\n",
        "\n",
        "- UBCF\n",
        "  - 사용자 기반 CF\n",
        "  - 데이터가 풍부한 경우 정확한 추천 \n",
        "  - 결과에 대한 위험성 존재\n",
        "- IBCF\n",
        "  - 계산이 빠름\n",
        "  - 업데이트에 대한 결과 영향이 적음\n",
        "  - 아마존, 넷플릭스\n",
        "\n",
        "유사도 계산 기준이 사용자인가 아이템인가에 따라 다름\n",
        "\n",
        "데이터 크기가 적고 사용자에 대한 정보가 있는 경우 사용자 기반 CF 가 적절하다 \n",
        "\n",
        "데이터 크기가 크고 충분한 정보가 없는 경우 아이템 기반 CF가 적절하다\n"
      ]
    },
    {
      "cell_type": "code",
      "execution_count": 11,
      "metadata": {
        "colab": {
          "base_uri": "https://localhost:8080/"
        },
        "id": "2lYrkI0lQcsE",
        "outputId": "160791fa-c876-4ab1-867c-0d01ce514aa6"
      },
      "outputs": [
        {
          "data": {
            "text/plain": [
              "1.0163003637579802"
            ]
          },
          "execution_count": 11,
          "metadata": {},
          "output_type": "execute_result"
        }
      ],
      "source": [
        "import os\n",
        "import pandas as pd\n",
        "import numpy as np\n",
        "from sklearn.model_selection import train_test_split\n",
        "### 코사인 유사도를 계산하는 사이킷런 라이브러리\n",
        "from sklearn.metrics.pairwise import cosine_similarity\n",
        "\n",
        "base_src = ''\n",
        "u_user_src = os.path.join(base_src, 'u.user')\n",
        "\n",
        "u_cols = ['user_id', 'age', 'sex', 'occupation', 'zip_code']\n",
        "users = pd.read_csv(u_user_src,\n",
        "                    sep = '|',\n",
        "                    names=u_cols,\n",
        "                    encoding='latin-1')\n",
        "users = users.set_index('user_id')\n",
        "\n",
        "\n",
        "u_item_src = os.path.join(base_src, 'u.item')\n",
        "i_cols = ['movie_id','title','release date','video release date', 'IMDB URL','unknown','Action','Adventure','Animation',\n",
        "'Children\\'s','Comedy','Crime','Documentary','Drama','Fantasy', 'Film-Noir','Horror','Musical','Mystery','Romance','Sci-Fi','Thriller','War','Western']\n",
        "movies = pd.read_csv(u_item_src, \n",
        "                     sep = '|',\n",
        "                     names = i_cols,\n",
        "                     encoding='latin-1')\n",
        "movies = movies.set_index('movie_id')\n",
        "\n",
        "\n",
        "u_data_src = os.path.join(base_src, 'u.data')\n",
        "r_cols = ['user_id', 'movie_id', 'rating', 'timestamp']\n",
        "ratings = pd.read_csv(u_data_src, sep='\\t',\n",
        "                      names=r_cols, encoding='latin-1')\n",
        "\n",
        "# RMSE 계산함수\n",
        "def RMSE(y_true, y_pred):\n",
        "  return np.sqrt(np.mean((np.array(y_true) - np.array(y_pred)) ** 2))\n",
        "\n",
        "# 유사집단 크기를 미리 정하기 위해서 기존 score 함수에 neighnbor_size 인자값 추가 \n",
        "def score(model):\n",
        "  # 테스트 데이터의 user_id 와 movie_id 간 pair를 맞춰 튜플형 원소 리스트 데이터 생성\n",
        "  id_pairs = zip(x_test['user_id'], x_test['movie_id'])\n",
        "  # 모든 사용자-영화 짝에 대해 주어진 예측 모델에 의해 예측값 계산 및 리스트형 데이터 생성 \n",
        "  y_pred = np.array([model(user, movie) for (user, movie) in id_pairs])\n",
        "  # 실제 평점값 \n",
        "  y_true = np.array(x_test['rating'])\n",
        "  return RMSE(y_true, y_pred)\n",
        "\n",
        "x = ratings.copy()\n",
        "y = ratings['user_id']\n",
        "\n",
        "x_train, x_test, y_train, y_test = train_test_split(x, y, test_size=0.25, stratify=y)\n",
        "\n",
        "rating_matrix = x_train.pivot(index='user_id', columns='movie_id', values='rating')\n",
        "\n",
        "\n",
        "####################################\n",
        "rating_matrix_t = np.transpose(rating_matrix)\n",
        "\n",
        "matrix_dummy = rating_matrix_t.copy().fillna(0)\n",
        "\n",
        "item_similarity = cosine_similarity(matrix_dummy, matrix_dummy)\n",
        "item_similarity = pd.DataFrame(item_similarity,\n",
        "                               index=rating_matrix_t.index,\n",
        "                               columns=rating_matrix_t.index)\n",
        "\n",
        "def CF_IBCF(user_id, movie_id):\n",
        "  if movie_id in item_similarity.columns:\n",
        "    sim_scores = item_similarity[movie_id]\n",
        "    user_rating = rating_matrix_t[user_id]\n",
        "    none_rating_idx = user_rating[user_rating.isnull()].index\n",
        "    user_rating = user_rating.dropna()\n",
        "    sim_scores = sim_scores.drop(none_rating_idx)\n",
        "    mean_rating = np.dot(sim_scores, user_rating) / sim_scores.sum()\n",
        "  else:\n",
        "    mean_rating = 3.0\n",
        "  return mean_rating\n",
        "\n",
        "score(CF_IBCF)"
      ]
    },
    {
      "cell_type": "markdown",
      "metadata": {
        "id": "DaV1_2v_Syiw"
      },
      "source": [
        "### 추천 시스템의 성과측정지표\n",
        "\n",
        "1. 데이터를 train_set 과 test_set 으로 분리 \n",
        "2. train_set을 사용해서 학습하고 test set으로 평가 \n",
        "3. 예상 평점과 실제 평점 차이를 계산 후 정확도 측정 \n",
        "\n",
        "#### 성과 측정 지표\n",
        "1. 각 아이템의 예상 평점과 실제 평점 차이\n",
        "  - RMSE\n",
        "2. 추천한 아이템과 사용자 실제 선택과 비교\n",
        "  - 정확도\n",
        "  - 정밀도 \n",
        "  - 재현율\n",
        "  - 정밀도와 재현율의 조화 평균\n",
        "  - 범위 \n",
        "  - 정밀도와 재형율은 trade-off 관계 "
      ]
    }
  ],
  "metadata": {
    "colab": {
      "authorship_tag": "ABX9TyMJc5MA+tIwR9Hye+tMeCLn",
      "collapsed_sections": [],
      "include_colab_link": true,
      "mount_file_id": "1UxERwCe8ASlZRqcfp9ahhxpoWr4uj1fw",
      "name": "협업필터링",
      "provenance": []
    },
    "kernelspec": {
      "display_name": "Python 3",
      "name": "python3"
    },
    "language_info": {
      "codemirror_mode": {
        "name": "ipython",
        "version": 3
      },
      "file_extension": ".py",
      "mimetype": "text/x-python",
      "name": "python",
      "nbconvert_exporter": "python",
      "pygments_lexer": "ipython3",
      "version": "3.9.7"
    }
  },
  "nbformat": 4,
  "nbformat_minor": 0
}
